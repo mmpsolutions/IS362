{
 "cells": [
  {
   "cell_type": "code",
   "execution_count": 22,
   "metadata": {},
   "outputs": [],
   "source": [
    "#IS362 - Assignment 7 - Moise Perez\n",
    "# 1. Load the ratings by user information that you collected into a pandas dataframe.\n",
    "# 2. Show the average ratings for each user and each movie.\n",
    "# 3. Create a new pandas dataframe, with normalized ratings for each user. Again, show the average ratings for each user and each movie.\n",
    "# 4. Provide a text-based conclusion: explain what might be advantages and disadvantages of using normalized ratings instead of the actual ratings.\n",
    "# 5. [Extra credit] Create another new pandas dataframe, with standardized ratings for each user. Once again, show the average ratings for each user and each movie."
   ]
  },
  {
   "cell_type": "code",
   "execution_count": 23,
   "metadata": {},
   "outputs": [
    {
     "data": {
      "text/html": [
       "<div>\n",
       "<style scoped>\n",
       "    .dataframe tbody tr th:only-of-type {\n",
       "        vertical-align: middle;\n",
       "    }\n",
       "\n",
       "    .dataframe tbody tr th {\n",
       "        vertical-align: top;\n",
       "    }\n",
       "\n",
       "    .dataframe thead th {\n",
       "        text-align: right;\n",
       "    }\n",
       "</style>\n",
       "<table border=\"1\" class=\"dataframe\">\n",
       "  <thead>\n",
       "    <tr style=\"text-align: right;\">\n",
       "      <th></th>\n",
       "      <th>The Adam Project</th>\n",
       "      <th>Black Crab</th>\n",
       "      <th>Rescued by Ruby</th>\n",
       "      <th>Tombstones</th>\n",
       "      <th>Windfall</th>\n",
       "      <th>London has fallen</th>\n",
       "    </tr>\n",
       "  </thead>\n",
       "  <tbody>\n",
       "    <tr>\n",
       "      <th>Joshua</th>\n",
       "      <td>4.0</td>\n",
       "      <td>5.0</td>\n",
       "      <td>3.0</td>\n",
       "      <td>3.0</td>\n",
       "      <td>3.0</td>\n",
       "      <td>5.0</td>\n",
       "    </tr>\n",
       "    <tr>\n",
       "      <th>Viviana</th>\n",
       "      <td>4.0</td>\n",
       "      <td>4.0</td>\n",
       "      <td>3.5</td>\n",
       "      <td>5.0</td>\n",
       "      <td>4.0</td>\n",
       "      <td>NaN</td>\n",
       "    </tr>\n",
       "    <tr>\n",
       "      <th>Stephanie</th>\n",
       "      <td>NaN</td>\n",
       "      <td>3.5</td>\n",
       "      <td>5.0</td>\n",
       "      <td>4.5</td>\n",
       "      <td>4.0</td>\n",
       "      <td>3.5</td>\n",
       "    </tr>\n",
       "    <tr>\n",
       "      <th>Giovanna</th>\n",
       "      <td>3.5</td>\n",
       "      <td>NaN</td>\n",
       "      <td>2.5</td>\n",
       "      <td>4.0</td>\n",
       "      <td>NaN</td>\n",
       "      <td>4.0</td>\n",
       "    </tr>\n",
       "    <tr>\n",
       "      <th>Lourdes</th>\n",
       "      <td>5.0</td>\n",
       "      <td>3.5</td>\n",
       "      <td>NaN</td>\n",
       "      <td>3.0</td>\n",
       "      <td>5.0</td>\n",
       "      <td>3.5</td>\n",
       "    </tr>\n",
       "    <tr>\n",
       "      <th>Moises</th>\n",
       "      <td>4.0</td>\n",
       "      <td>3.0</td>\n",
       "      <td>5.0</td>\n",
       "      <td>5.0</td>\n",
       "      <td>NaN</td>\n",
       "      <td>5.0</td>\n",
       "    </tr>\n",
       "  </tbody>\n",
       "</table>\n",
       "</div>"
      ],
      "text/plain": [
       "           The Adam Project  Black Crab  Rescued by Ruby  Tombstones  \\\n",
       "Joshua                  4.0         5.0              3.0         3.0   \n",
       "Viviana                 4.0         4.0              3.5         5.0   \n",
       "Stephanie               NaN         3.5              5.0         4.5   \n",
       "Giovanna                3.5         NaN              2.5         4.0   \n",
       "Lourdes                 5.0         3.5              NaN         3.0   \n",
       "Moises                  4.0         3.0              5.0         5.0   \n",
       "\n",
       "           Windfall  London has fallen  \n",
       "Joshua          3.0                5.0  \n",
       "Viviana         4.0                NaN  \n",
       "Stephanie       4.0                3.5  \n",
       "Giovanna        NaN                4.0  \n",
       "Lourdes         5.0                3.5  \n",
       "Moises          NaN                5.0  "
      ]
     },
     "execution_count": 23,
     "metadata": {},
     "output_type": "execute_result"
    }
   ],
   "source": [
    "# importing needed modules\n",
    "import pandas as pd\n",
    "import numpy as np\n",
    "import matplotlib.pyplot as plt\n",
    "%matplotlib inline\n",
    "\n",
    "# Import local cvs file from my computer\n",
    "movies = pd.read_csv('movies.csv', index_col = 0)  \n",
    "movies"
   ]
  },
  {
   "cell_type": "code",
   "execution_count": 24,
   "metadata": {},
   "outputs": [
    {
     "data": {
      "text/html": [
       "<div>\n",
       "<style scoped>\n",
       "    .dataframe tbody tr th:only-of-type {\n",
       "        vertical-align: middle;\n",
       "    }\n",
       "\n",
       "    .dataframe tbody tr th {\n",
       "        vertical-align: top;\n",
       "    }\n",
       "\n",
       "    .dataframe thead th {\n",
       "        text-align: right;\n",
       "    }\n",
       "</style>\n",
       "<table border=\"1\" class=\"dataframe\">\n",
       "  <thead>\n",
       "    <tr style=\"text-align: right;\">\n",
       "      <th></th>\n",
       "      <th>The Adam Project</th>\n",
       "      <th>Black Crab</th>\n",
       "      <th>Rescued by Ruby</th>\n",
       "      <th>Tombstones</th>\n",
       "      <th>Windfall</th>\n",
       "      <th>London has fallen</th>\n",
       "    </tr>\n",
       "  </thead>\n",
       "  <tbody>\n",
       "    <tr>\n",
       "      <th>Joshua</th>\n",
       "      <td>4.0</td>\n",
       "      <td>5.0</td>\n",
       "      <td>3.0</td>\n",
       "      <td>3.0</td>\n",
       "      <td>3.0</td>\n",
       "      <td>5.0</td>\n",
       "    </tr>\n",
       "    <tr>\n",
       "      <th>Viviana</th>\n",
       "      <td>4.0</td>\n",
       "      <td>4.0</td>\n",
       "      <td>3.5</td>\n",
       "      <td>5.0</td>\n",
       "      <td>4.0</td>\n",
       "      <td>0.0</td>\n",
       "    </tr>\n",
       "    <tr>\n",
       "      <th>Stephanie</th>\n",
       "      <td>0.0</td>\n",
       "      <td>3.5</td>\n",
       "      <td>5.0</td>\n",
       "      <td>4.5</td>\n",
       "      <td>4.0</td>\n",
       "      <td>3.5</td>\n",
       "    </tr>\n",
       "    <tr>\n",
       "      <th>Giovanna</th>\n",
       "      <td>3.5</td>\n",
       "      <td>0.0</td>\n",
       "      <td>2.5</td>\n",
       "      <td>4.0</td>\n",
       "      <td>0.0</td>\n",
       "      <td>4.0</td>\n",
       "    </tr>\n",
       "    <tr>\n",
       "      <th>Lourdes</th>\n",
       "      <td>5.0</td>\n",
       "      <td>3.5</td>\n",
       "      <td>0.0</td>\n",
       "      <td>3.0</td>\n",
       "      <td>5.0</td>\n",
       "      <td>3.5</td>\n",
       "    </tr>\n",
       "    <tr>\n",
       "      <th>Moises</th>\n",
       "      <td>4.0</td>\n",
       "      <td>3.0</td>\n",
       "      <td>5.0</td>\n",
       "      <td>5.0</td>\n",
       "      <td>0.0</td>\n",
       "      <td>5.0</td>\n",
       "    </tr>\n",
       "  </tbody>\n",
       "</table>\n",
       "</div>"
      ],
      "text/plain": [
       "           The Adam Project  Black Crab  Rescued by Ruby  Tombstones  \\\n",
       "Joshua                  4.0         5.0              3.0         3.0   \n",
       "Viviana                 4.0         4.0              3.5         5.0   \n",
       "Stephanie               0.0         3.5              5.0         4.5   \n",
       "Giovanna                3.5         0.0              2.5         4.0   \n",
       "Lourdes                 5.0         3.5              0.0         3.0   \n",
       "Moises                  4.0         3.0              5.0         5.0   \n",
       "\n",
       "           Windfall  London has fallen  \n",
       "Joshua          3.0                5.0  \n",
       "Viviana         4.0                0.0  \n",
       "Stephanie       4.0                3.5  \n",
       "Giovanna        0.0                4.0  \n",
       "Lourdes         5.0                3.5  \n",
       "Moises          0.0                5.0  "
      ]
     },
     "execution_count": 24,
     "metadata": {},
     "output_type": "execute_result"
    }
   ],
   "source": [
    "# 1. Replacing NaN value with 0\n",
    "movies2 = movies.fillna(0.0)\n",
    "movies2"
   ]
  },
  {
   "cell_type": "code",
   "execution_count": 25,
   "metadata": {},
   "outputs": [
    {
     "data": {
      "text/plain": [
       "Joshua       3.83\n",
       "Viviana      3.42\n",
       "Stephanie    3.42\n",
       "Giovanna     2.33\n",
       "Lourdes      3.33\n",
       "Moises       3.67\n",
       "dtype: float64"
      ]
     },
     "execution_count": 25,
     "metadata": {},
     "output_type": "execute_result"
    }
   ],
   "source": [
    "# 2a. Finding the Average Movie Ratings by user\n",
    "Ratings = movies2\n",
    "Ratings.mean(axis = 1).round(2) # axis 1 is Y axis"
   ]
  },
  {
   "cell_type": "code",
   "execution_count": 26,
   "metadata": {},
   "outputs": [
    {
     "data": {
      "text/plain": [
       "The Adam Project     3.42\n",
       "Black Crab           3.17\n",
       "Rescued by Ruby      3.17\n",
       "Tombstones           4.08\n",
       "Windfall             2.67\n",
       "London has fallen    3.50\n",
       "dtype: float64"
      ]
     },
     "execution_count": 26,
     "metadata": {},
     "output_type": "execute_result"
    }
   ],
   "source": [
    "# 2b. Finding the Average Ratings of Movie by movies\n",
    "Ratings.mean(axis = 0).round(2)"
   ]
  },
  {
   "cell_type": "code",
   "execution_count": 27,
   "metadata": {},
   "outputs": [
    {
     "data": {
      "text/html": [
       "<div>\n",
       "<style scoped>\n",
       "    .dataframe tbody tr th:only-of-type {\n",
       "        vertical-align: middle;\n",
       "    }\n",
       "\n",
       "    .dataframe tbody tr th {\n",
       "        vertical-align: top;\n",
       "    }\n",
       "\n",
       "    .dataframe thead th {\n",
       "        text-align: right;\n",
       "    }\n",
       "</style>\n",
       "<table border=\"1\" class=\"dataframe\">\n",
       "  <thead>\n",
       "    <tr style=\"text-align: right;\">\n",
       "      <th></th>\n",
       "      <th>The Adam Project</th>\n",
       "      <th>Black Crab</th>\n",
       "      <th>Rescued by Ruby</th>\n",
       "      <th>Tombstones</th>\n",
       "      <th>Windfall</th>\n",
       "      <th>London has fallen</th>\n",
       "    </tr>\n",
       "  </thead>\n",
       "  <tbody>\n",
       "    <tr>\n",
       "      <th>Joshua</th>\n",
       "      <td>0.8</td>\n",
       "      <td>1.0</td>\n",
       "      <td>0.6</td>\n",
       "      <td>0.00</td>\n",
       "      <td>0.6</td>\n",
       "      <td>1.0</td>\n",
       "    </tr>\n",
       "    <tr>\n",
       "      <th>Viviana</th>\n",
       "      <td>0.8</td>\n",
       "      <td>0.8</td>\n",
       "      <td>0.7</td>\n",
       "      <td>1.00</td>\n",
       "      <td>0.8</td>\n",
       "      <td>0.0</td>\n",
       "    </tr>\n",
       "    <tr>\n",
       "      <th>Stephanie</th>\n",
       "      <td>0.0</td>\n",
       "      <td>0.7</td>\n",
       "      <td>1.0</td>\n",
       "      <td>0.75</td>\n",
       "      <td>0.8</td>\n",
       "      <td>0.7</td>\n",
       "    </tr>\n",
       "    <tr>\n",
       "      <th>Giovanna</th>\n",
       "      <td>0.7</td>\n",
       "      <td>0.0</td>\n",
       "      <td>0.5</td>\n",
       "      <td>0.50</td>\n",
       "      <td>0.0</td>\n",
       "      <td>0.8</td>\n",
       "    </tr>\n",
       "    <tr>\n",
       "      <th>Lourdes</th>\n",
       "      <td>1.0</td>\n",
       "      <td>0.7</td>\n",
       "      <td>0.0</td>\n",
       "      <td>0.00</td>\n",
       "      <td>1.0</td>\n",
       "      <td>0.7</td>\n",
       "    </tr>\n",
       "    <tr>\n",
       "      <th>Moises</th>\n",
       "      <td>0.8</td>\n",
       "      <td>0.6</td>\n",
       "      <td>1.0</td>\n",
       "      <td>1.00</td>\n",
       "      <td>0.0</td>\n",
       "      <td>1.0</td>\n",
       "    </tr>\n",
       "  </tbody>\n",
       "</table>\n",
       "</div>"
      ],
      "text/plain": [
       "           The Adam Project  Black Crab  Rescued by Ruby  Tombstones  \\\n",
       "Joshua                  0.8         1.0              0.6        0.00   \n",
       "Viviana                 0.8         0.8              0.7        1.00   \n",
       "Stephanie               0.0         0.7              1.0        0.75   \n",
       "Giovanna                0.7         0.0              0.5        0.50   \n",
       "Lourdes                 1.0         0.7              0.0        0.00   \n",
       "Moises                  0.8         0.6              1.0        1.00   \n",
       "\n",
       "           Windfall  London has fallen  \n",
       "Joshua          0.6                1.0  \n",
       "Viviana         0.8                0.0  \n",
       "Stephanie       0.8                0.7  \n",
       "Giovanna        0.0                0.8  \n",
       "Lourdes         1.0                0.7  \n",
       "Moises          0.0                1.0  "
      ]
     },
     "execution_count": 27,
     "metadata": {},
     "output_type": "execute_result"
    }
   ],
   "source": [
    "# 3a. Normalized Data based on following formula:normalized = (x-x.min() / (x.max()-x.min()))\n",
    "normalized = (Ratings - Ratings.min())/ (Ratings.max()- Ratings.min())\n",
    "normalized"
   ]
  },
  {
   "cell_type": "code",
   "execution_count": 28,
   "metadata": {},
   "outputs": [
    {
     "data": {
      "image/png": "[encoded data removed]",
      "text/plain": [
       "<Figure size 432x288 with 1 Axes>"
      ]
     },
     "metadata": {
      "needs_background": "light"
     },
     "output_type": "display_data"
    }
   ],
   "source": [
    "# 3b. Displaying normalized data in plot\n",
    "Plot_user = normalized.mean(axis = 1).plot()\n",
    "Plot_movie = normalized.mean(axis =0).plot()"
   ]
  },
  {
   "cell_type": "code",
   "execution_count": 29,
   "metadata": {},
   "outputs": [
    {
     "name": "stdout",
     "output_type": "stream",
     "text": [
      "The Adam Project     0.683333\n",
      "Black Crab           0.633333\n",
      "Rescued by Ruby      0.633333\n",
      "Tombstones           0.541667\n",
      "Windfall             0.533333\n",
      "London has fallen    0.700000\n",
      "dtype: float64\n",
      "Joshua       0.666667\n",
      "Viviana      0.683333\n",
      "Stephanie    0.658333\n",
      "Giovanna     0.416667\n",
      "Lourdes      0.566667\n",
      "Moises       0.733333\n",
      "dtype: float64\n"
     ]
    }
   ],
   "source": [
    "# 3c. Normalized data in numbers\n",
    "print(normalized.mean(axis=0))\n",
    "print(normalized.mean(axis=1))"
   ]
  },
  {
   "cell_type": "code",
   "execution_count": 30,
   "metadata": {},
   "outputs": [
    {
     "data": {
      "text/html": [
       "<div>\n",
       "<style scoped>\n",
       "    .dataframe tbody tr th:only-of-type {\n",
       "        vertical-align: middle;\n",
       "    }\n",
       "\n",
       "    .dataframe tbody tr th {\n",
       "        vertical-align: top;\n",
       "    }\n",
       "\n",
       "    .dataframe thead th {\n",
       "        text-align: right;\n",
       "    }\n",
       "</style>\n",
       "<table border=\"1\" class=\"dataframe\">\n",
       "  <thead>\n",
       "    <tr style=\"text-align: right;\">\n",
       "      <th></th>\n",
       "      <th>The Adam Project</th>\n",
       "      <th>Black Crab</th>\n",
       "      <th>Rescued by Ruby</th>\n",
       "      <th>Tombstones</th>\n",
       "      <th>Windfall</th>\n",
       "      <th>London has fallen</th>\n",
       "    </tr>\n",
       "  </thead>\n",
       "  <tbody>\n",
       "    <tr>\n",
       "      <th>Joshua</th>\n",
       "      <td>0.334473</td>\n",
       "      <td>1.082811</td>\n",
       "      <td>-0.089514</td>\n",
       "      <td>-1.180843</td>\n",
       "      <td>0.154303</td>\n",
       "      <td>0.813489</td>\n",
       "    </tr>\n",
       "    <tr>\n",
       "      <th>Viviana</th>\n",
       "      <td>0.334473</td>\n",
       "      <td>0.492187</td>\n",
       "      <td>0.179029</td>\n",
       "      <td>0.999175</td>\n",
       "      <td>0.617213</td>\n",
       "      <td>-1.898142</td>\n",
       "    </tr>\n",
       "    <tr>\n",
       "      <th>Stephanie</th>\n",
       "      <td>-1.959056</td>\n",
       "      <td>0.196875</td>\n",
       "      <td>0.984658</td>\n",
       "      <td>0.454170</td>\n",
       "      <td>0.617213</td>\n",
       "      <td>0.000000</td>\n",
       "    </tr>\n",
       "    <tr>\n",
       "      <th>Giovanna</th>\n",
       "      <td>0.047782</td>\n",
       "      <td>-1.870311</td>\n",
       "      <td>-0.358057</td>\n",
       "      <td>-0.090834</td>\n",
       "      <td>-1.234427</td>\n",
       "      <td>0.271163</td>\n",
       "    </tr>\n",
       "    <tr>\n",
       "      <th>Lourdes</th>\n",
       "      <td>0.907855</td>\n",
       "      <td>0.196875</td>\n",
       "      <td>-1.700773</td>\n",
       "      <td>-1.180843</td>\n",
       "      <td>1.080123</td>\n",
       "      <td>0.000000</td>\n",
       "    </tr>\n",
       "    <tr>\n",
       "      <th>Moises</th>\n",
       "      <td>0.334473</td>\n",
       "      <td>-0.098437</td>\n",
       "      <td>0.984658</td>\n",
       "      <td>0.999175</td>\n",
       "      <td>-1.234427</td>\n",
       "      <td>0.813489</td>\n",
       "    </tr>\n",
       "  </tbody>\n",
       "</table>\n",
       "</div>"
      ],
      "text/plain": [
       "           The Adam Project  Black Crab  Rescued by Ruby  Tombstones  \\\n",
       "Joshua             0.334473    1.082811        -0.089514   -1.180843   \n",
       "Viviana            0.334473    0.492187         0.179029    0.999175   \n",
       "Stephanie         -1.959056    0.196875         0.984658    0.454170   \n",
       "Giovanna           0.047782   -1.870311        -0.358057   -0.090834   \n",
       "Lourdes            0.907855    0.196875        -1.700773   -1.180843   \n",
       "Moises             0.334473   -0.098437         0.984658    0.999175   \n",
       "\n",
       "           Windfall  London has fallen  \n",
       "Joshua     0.154303           0.813489  \n",
       "Viviana    0.617213          -1.898142  \n",
       "Stephanie  0.617213           0.000000  \n",
       "Giovanna  -1.234427           0.271163  \n",
       "Lourdes    1.080123           0.000000  \n",
       "Moises    -1.234427           0.813489  "
      ]
     },
     "execution_count": 30,
     "metadata": {},
     "output_type": "execute_result"
    }
   ],
   "source": [
    "# 5a. EXTRA CREDIT: Standardized based on formula : Standardized = (x-x.mean()) / x.std())\n",
    "standardized = (Ratings - Ratings.mean())/ Ratings.std()\n",
    "standardized"
   ]
  },
  {
   "cell_type": "code",
   "execution_count": 31,
   "metadata": {},
   "outputs": [
    {
     "data": {
      "image/png": "[encoded data removed]",
      "text/plain": [
       "<Figure size 432x288 with 1 Axes>"
      ]
     },
     "metadata": {
      "needs_background": "light"
     },
     "output_type": "display_data"
    }
   ],
   "source": [
    "# 5b. Standardized data in plot\n",
    "SPlot_user = standardized.mean(axis = 1).plot()\n",
    "SPlot_movie = standardized.mean(axis= 0).plot()"
   ]
  },
  {
   "cell_type": "code",
   "execution_count": 32,
   "metadata": {},
   "outputs": [
    {
     "name": "stdout",
     "output_type": "stream",
     "text": [
      "The Adam Project     1.387779e-16\n",
      "Black Crab           9.945748e-17\n",
      "Rescued by Ruby      1.110223e-16\n",
      "Tombstones           3.145632e-16\n",
      "Windfall             7.401487e-17\n",
      "London has fallen    5.551115e-17\n",
      "dtype: float64\n",
      "Joshua       0.185787\n",
      "Viviana      0.120656\n",
      "Stephanie    0.048977\n",
      "Giovanna    -0.539114\n",
      "Lourdes     -0.116127\n",
      "Moises       0.299822\n",
      "dtype: float64\n"
     ]
    }
   ],
   "source": [
    "# 5c. Standarized data in numbers\n",
    "print(standardized.mean(axis=0))\n",
    "print(standardized.mean(axis=1))"
   ]
  },
  {
   "cell_type": "code",
   "execution_count": null,
   "metadata": {},
   "outputs": [],
   "source": []
  }
 ],
 "metadata": {
  "kernelspec": {
   "display_name": "Python 3",
   "language": "python",
   "name": "python3"
  },
  "language_info": {
   "codemirror_mode": {
    "name": "ipython",
    "version": 3
   },
   "file_extension": ".py",
   "mimetype": "text/x-python",
   "name": "python",
   "nbconvert_exporter": "python",
   "pygments_lexer": "ipython3",
   "version": "3.8.3"
  }
 },
 "nbformat": 4,
 "nbformat_minor": 4
}
