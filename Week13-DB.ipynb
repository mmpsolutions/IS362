{
 "cells": [
  {
   "cell_type": "markdown",
   "metadata": {},
   "source": [
    "Week 13 Discussion by Moises Perez\n",
    "\n",
    "1. Identify a recommender system website\n",
    "•\tI have chosen Instagram as the recommender system website. It is a photo and video-sharing application launched in 2010 by Kevin Systrom. The app's focus was on feature photos taken on mobile devices. Facebook (now Meta) acquired 1 billion in cash and stock in 2012. The company mainly makes its money from advertising\n",
    "\n",
    "2. Answer the three scenario design questions for this website:\n",
    "\n",
    "Who are your target users?\n",
    "•\tThe target users are anyone but mainly youth users and globally.\n",
    "\n",
    "What are their key goals?\n",
    "•\tAllow users to connect with people who see the world in exciting ways. \n",
    "•\tProvide companies and users with traffic to their social media sites/accounts.\n",
    "•\tPromote users who are enthusiastic to follow a business for a product or service via their advertising.\n",
    "\n",
    "How can you help them accomplish those goals?\n",
    "•\tI believe Instagram has accomplished its goals by providing an easy-to-use visual app for all users. The Instagram app promotes mainly photos and video compared to other apps, which allow lots of text. Ads are very sophisticated and use AI and ML, attracting more companies and users for branded advertising.\n",
    "\n",
    "References:\n",
    "https://www.investopedia.com/articles/investing/102615/story-instagram-rise-1-photo0sharing-app.asp\n",
    "https://blogs.commons.georgetown.edu/cctp-607-spring2019/2019/01/28/the-mystery-behind-instagram-recommendation-system/#:~:text=Like%20Apple's%20Siri%2C%20Instagram%20Recommendation,topical%20relevance%20and%20personal%20relevance.\n"
   ]
  }
 ],
 "metadata": {
  "kernelspec": {
   "display_name": "Python 3",
   "language": "python",
   "name": "python3"
  },
  "language_info": {
   "codemirror_mode": {
    "name": "ipython",
    "version": 3
   },
   "file_extension": ".py",
   "mimetype": "text/x-python",
   "name": "python",
   "nbconvert_exporter": "python",
   "pygments_lexer": "ipython3",
   "version": "3.8.3"
  }
 },
 "nbformat": 4,
 "nbformat_minor": 4
}
