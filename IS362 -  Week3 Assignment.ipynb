{
 "cells": [
  {
   "cell_type": "code",
   "execution_count": 26,
   "metadata": {},
   "outputs": [],
   "source": [
    "# IS362 Moises Perez - Week3 Assignment\n",
    "# Importing needed libraries\n",
    "from pandas import DataFrame\n",
    "import pandas as pd\n",
    "import matplotlib.pyplot as plt\n",
    "import matplotlib as mp\n",
    "import random\n",
    "import numpy as np\n",
    "import pprint\n",
    "\n",
    "# Enable inline plotting\n",
    "%matplotlib inline"
   ]
  },
  {
   "cell_type": "code",
   "execution_count": 33,
   "metadata": {},
   "outputs": [],
   "source": [
    "# I used google maps to calculate the total mileage from my house (Woodside, NY) to Key West, Florida\n",
    "TOTALDISTANCE = 1444\n",
    "DAY1 = 55\n",
    "DAY2 = 65\n",
    "DAILY_MILES = {'DAY1':55, 'DAY2':65}"
   ]
  },
  {
   "cell_type": "code",
   "execution_count": 34,
   "metadata": {},
   "outputs": [
    {
     "name": "stdout",
     "output_type": "stream",
     "text": [
      "I could ride my bycycle in average of 60.0 miles a day.\n",
      "The Total Distance to complete my trip is: 1444 miles\n",
      "I could arrive to Key West, Florida in 24.07 days\n"
     ]
    }
   ],
   "source": [
    "# Average miles per day (DAY1 + DAY2 divided by 2) and total days to reach florida\n",
    "\n",
    "REF_MILES = [DAY1, DAY2]\n",
    "AVG_MILES_DAILY = sum(REF_MILES)/len(REF_MILES)\n",
    "TOTAL_DAYS = round((int(TOTALDISTANCE) / int(AVG_MILES_DAILY)),2)\n",
    "LENGTH = len(REF_MILES)\n",
    "TOTALDAYS = float(TOTAL_DAYS - LENGTH)\n",
    "\n",
    "print('I could ride my bycycle in average of {} miles a day.'.format(AVG_MILES_DAILY))\n",
    "print('The Total Distance to complete my trip is: {} miles'.format(TOTALDISTANCE))\n",
    "print('I could arrive to Key West, Florida in {} days'.format(TOTAL_DAYS))"
   ]
  },
  {
   "cell_type": "code",
   "execution_count": 35,
   "metadata": {},
   "outputs": [
    {
     "name": "stdout",
     "output_type": "stream",
     "text": [
      "Daily miles in log {'DAY1': 55, 'DAY2': 65, 'DAY3': 63, 'DAY4': 62, 'DAY5': 57, 'DAY6': 59, 'DAY7': 55, 'DAY8': 56, 'DAY9': 64, 'DAY10': 64, 'DAY11': 56, 'DAY12': 56, 'DAY13': 63, 'DAY14': 60, 'DAY15': 55, 'DAY16': 64, 'DAY17': 61, 'DAY18': 60, 'DAY19': 56, 'DAY20': 58, 'DAY21': 60, 'DAY22': 65, 'DAY23': 55, 'DAY24': 65, 'DAY25': 61}\n",
      "Sum of Daily Miles : 1495\n",
      "{   'DAY1': 55,\n",
      "    'DAY10': 64,\n",
      "    'DAY11': 56,\n",
      "    'DAY12': 56,\n",
      "    'DAY13': 63,\n",
      "    'DAY14': 60,\n",
      "    'DAY15': 55,\n",
      "    'DAY16': 64,\n",
      "    'DAY17': 61,\n",
      "    'DAY18': 60,\n",
      "    'DAY19': 56,\n",
      "    'DAY2': 65,\n",
      "    'DAY20': 58,\n",
      "    'DAY21': 60,\n",
      "    'DAY22': 65,\n",
      "    'DAY23': 55,\n",
      "    'DAY24': 65,\n",
      "    'DAY25': 61,\n",
      "    'DAY3': 63,\n",
      "    'DAY4': 62,\n",
      "    'DAY5': 57,\n",
      "    'DAY6': 59,\n",
      "    'DAY7': 55,\n",
      "    'DAY8': 56,\n",
      "    'DAY9': 64}\n"
     ]
    }
   ],
   "source": [
    "# Riding logs daily\n",
    "COUNT = 0\n",
    "DAILY_LOG =[]\n",
    "DCOUNT = 2\n",
    "while COUNT != TOTALDAYS:\n",
    "    RAN = random.randint(DAY1, DAY2)\n",
    "    DCOUNT+=1\n",
    "    DAY = 'DAY'+str(DCOUNT)\n",
    "    DAILY_MILES[DAY] = RAN\n",
    "    # DAILY_LOG.append(RAN)\n",
    "    COUNT+=1\n",
    "    MILES_SUM = sum(DAILY_MILES.values())\n",
    "    if MILES_SUM >= TOTALDISTANCE:\n",
    "        break\n",
    "        \n",
    "print('Daily miles in log {}'.format(DAILY_MILES))\n",
    "MILEAGE_SUM = sum(DAILY_MILES.values())\n",
    "print('Sum of Daily Miles : {}'.format(MILEAGE_SUM))\n",
    "\n",
    "PLIST = pprint.PrettyPrinter(indent=4)\n",
    "PLIST.pprint(DAILY_MILES)"
   ]
  },
  {
   "cell_type": "code",
   "execution_count": 36,
   "metadata": {},
   "outputs": [
    {
     "name": "stdout",
     "output_type": "stream",
     "text": [
      "{'DAY1': 55, 'DAY2': 120, 'DAY3': 183, 'DAY4': 245, 'DAY5': 302, 'DAY6': 361, 'DAY7': 416, 'DAY8': 472, 'DAY9': 536, 'DAY10': 600, 'DAY11': 656, 'DAY12': 712, 'DAY13': 775, 'DAY14': 835, 'DAY15': 890, 'DAY16': 954, 'DAY17': 1015, 'DAY18': 1075, 'DAY19': 1131, 'DAY20': 1189, 'DAY21': 1249, 'DAY22': 1314, 'DAY23': 1369, 'DAY24': 1434, 'DAY25': 1495}\n"
     ]
    }
   ],
   "source": [
    "# Odometer reading by adding previous day to current day\n",
    "ODOMETER = {}\n",
    "CUM_M = 0\n",
    "for D,V in DAILY_MILES.items():\n",
    "    CUM_M=CUM_M+V\n",
    "    ODOMETER[D]=CUM_M\n",
    "print (ODOMETER)"
   ]
  },
  {
   "cell_type": "code",
   "execution_count": 37,
   "metadata": {},
   "outputs": [
    {
     "data": {
      "text/plain": [
       "DAY1       55\n",
       "DAY2      120\n",
       "DAY3      183\n",
       "DAY4      245\n",
       "DAY5      302\n",
       "DAY6      361\n",
       "DAY7      416\n",
       "DAY8      472\n",
       "DAY9      536\n",
       "DAY10     600\n",
       "DAY11     656\n",
       "DAY12     712\n",
       "DAY13     775\n",
       "DAY14     835\n",
       "DAY15     890\n",
       "DAY16     954\n",
       "DAY17    1015\n",
       "DAY18    1075\n",
       "DAY19    1131\n",
       "DAY20    1189\n",
       "DAY21    1249\n",
       "DAY22    1314\n",
       "DAY23    1369\n",
       "DAY24    1434\n",
       "DAY25    1495\n",
       "dtype: int64"
      ]
     },
     "execution_count": 37,
     "metadata": {},
     "output_type": "execute_result"
    }
   ],
   "source": [
    "# Printing daily odometer reading using pandas Series\n",
    "ODO_SERIES = pd.Series(ODOMETER)\n",
    "ODO_SERIES.sort_values(ascending=True)"
   ]
  },
  {
   "cell_type": "code",
   "execution_count": null,
   "metadata": {},
   "outputs": [],
   "source": []
  }
 ],
 "metadata": {
  "kernelspec": {
   "display_name": "Python 3",
   "language": "python",
   "name": "python3"
  },
  "language_info": {
   "codemirror_mode": {
    "name": "ipython",
    "version": 3
   },
   "file_extension": ".py",
   "mimetype": "text/x-python",
   "name": "python",
   "nbconvert_exporter": "python",
   "pygments_lexer": "ipython3",
   "version": "3.8.3"
  }
 },
 "nbformat": 4,
 "nbformat_minor": 4
}
